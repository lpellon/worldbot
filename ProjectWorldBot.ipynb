{
 "cells": [
  {
   "cell_type": "markdown",
   "metadata": {},
   "source": [
    "## My World Bot\n",
    "\n",
    "WorldBot is a chatbot to list down all the countries in the world, categorized by continent. This is a friendly-user program that is easy for students to learn the countries in a specified region and their capitals.\n",
    "\n",
    "The user is free to choose the continent and country it wants to expore. \n",
    "\n",
    "### Project Code\n",
    "All names of places should be written with capital letters\n"
   ]
  },
  {
   "cell_type": "code",
   "execution_count": null,
   "metadata": {},
   "outputs": [],
   "source": [
    "from my_module import worldbot_functions\n",
    "from my_module import worldbot_test_functions\n",
    "worldbot_functions.activate_worldbot()"
   ]
  },
  {
   "cell_type": "markdown",
   "metadata": {},
   "source": [
    "#### ExtraCredit\n",
    "This chatbot was very challenging for me to work with because my first idea was to create a class with all the countries' details. However, I was unable to work with this when I tried to output the specific input the user gave. I also added more than 3 functions than the requirement. \n",
    "\n",
    "Overall this chatbot will be very useful for me as I am currently tring to learn all the capitals in the world!"
   ]
  }
 ],
 "metadata": {
  "kernelspec": {
   "display_name": "Python 3",
   "language": "python",
   "name": "python3"
  },
  "language_info": {
   "codemirror_mode": {
    "name": "ipython",
    "version": 3
   },
   "file_extension": ".py",
   "mimetype": "text/x-python",
   "name": "python",
   "nbconvert_exporter": "python",
   "pygments_lexer": "ipython3",
   "version": "3.7.3"
  }
 },
 "nbformat": 4,
 "nbformat_minor": 2
}
